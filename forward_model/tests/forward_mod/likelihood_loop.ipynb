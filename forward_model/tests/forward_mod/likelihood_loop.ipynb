{
 "cells": [
  {
   "cell_type": "code",
   "execution_count": 1,
   "metadata": {},
   "outputs": [],
   "source": [
    "import os\n",
    "import sys\n",
    "import importlib\n",
    "from functools import partial\n",
    "\n",
    "import h5py\n",
    "import numpy as np\n",
    "import jax\n",
    "import jax.numpy as jnp\n",
    "import matplotlib.pyplot as plt\n",
    "\n",
    "\n",
    "sys.path.append('../../../')\n",
    "import forward_model\n",
    "importlib.reload(forward_model)\n",
    "from forward_model.main import get_forward_model"
   ]
  },
  {
   "cell_type": "code",
   "execution_count": null,
   "metadata": {},
   "outputs": [
    {
     "name": "stdout",
     "output_type": "stream",
     "text": [
      "N 8\n"
     ]
    },
    {
     "name": "stderr",
     "output_type": "stream",
     "text": [
      "/home/prossello/Documents/IAC_beca/cosmo_env/lib64/python3.12/site-packages/jax/_src/numpy/array_methods.py:69: UserWarning: Explicitly requested dtype <class 'jax.numpy.int64'> requested in astype is not available, and will be truncated to dtype int32. To enable more dtypes, set the jax_enable_x64 configuration option or the JAX_ENABLE_X64 shell environment variable. See https://github.com/google/jax#current-gotchas for more.\n",
      "  return lax_numpy.astype(arr, dtype, copy=copy, device=device)\n",
      "/home/prossello/Documents/IAC_beca/cosmo_env/lib64/python3.12/site-packages/jax/_src/numpy/array_methods.py:69: UserWarning: Explicitly requested dtype <class 'jax.numpy.int64'> requested in astype is not available, and will be truncated to dtype int32. To enable more dtypes, set the jax_enable_x64 configuration option or the JAX_ENABLE_X64 shell environment variable. See https://github.com/google/jax#current-gotchas for more.\n",
      "  return lax_numpy.astype(arr, dtype, copy=copy, device=device)\n",
      "/home/prossello/Documents/IAC_beca/cosmo_env/lib64/python3.12/site-packages/jax/_src/numpy/array_methods.py:69: UserWarning: Explicitly requested dtype <class 'jax.numpy.int64'> requested in astype is not available, and will be truncated to dtype int32. To enable more dtypes, set the jax_enable_x64 configuration option or the JAX_ENABLE_X64 shell environment variable. See https://github.com/google/jax#current-gotchas for more.\n",
      "  return lax_numpy.astype(arr, dtype, copy=copy, device=device)\n"
     ]
    },
    {
     "name": "stdout",
     "output_type": "stream",
     "text": [
      "-7534677.0\n",
      "max_gnll 2183.4224\n",
      "max_gnll -4634.347\n",
      "std_gnll 499.28897\n",
      "N 16\n",
      "-5296597.0\n",
      "max_gnll 3901.3633\n",
      "max_gnll -3500.318\n",
      "std_gnll 281.46606\n",
      "N 32\n"
     ]
    },
    {
     "name": "stderr",
     "output_type": "stream",
     "text": [
      "/home/prossello/Documents/IAC_beca/cosmo_env/lib64/python3.12/site-packages/jax/_src/numpy/array_methods.py:69: UserWarning: Explicitly requested dtype <class 'jax.numpy.int64'> requested in astype is not available, and will be truncated to dtype int32. To enable more dtypes, set the jax_enable_x64 configuration option or the JAX_ENABLE_X64 shell environment variable. See https://github.com/google/jax#current-gotchas for more.\n",
      "  return lax_numpy.astype(arr, dtype, copy=copy, device=device)\n",
      "/home/prossello/Documents/IAC_beca/cosmo_env/lib64/python3.12/site-packages/jax/_src/numpy/array_methods.py:69: UserWarning: Explicitly requested dtype <class 'jax.numpy.int64'> requested in astype is not available, and will be truncated to dtype int32. To enable more dtypes, set the jax_enable_x64 configuration option or the JAX_ENABLE_X64 shell environment variable. See https://github.com/google/jax#current-gotchas for more.\n",
      "  return lax_numpy.astype(arr, dtype, copy=copy, device=device)\n",
      "/home/prossello/Documents/IAC_beca/cosmo_env/lib64/python3.12/site-packages/jax/_src/numpy/array_methods.py:69: UserWarning: Explicitly requested dtype <class 'jax.numpy.int64'> requested in astype is not available, and will be truncated to dtype int32. To enable more dtypes, set the jax_enable_x64 configuration option or the JAX_ENABLE_X64 shell environment variable. See https://github.com/google/jax#current-gotchas for more.\n",
      "  return lax_numpy.astype(arr, dtype, copy=copy, device=device)\n"
     ]
    },
    {
     "name": "stdout",
     "output_type": "stream",
     "text": [
      "-2844557.2\n",
      "max_gnll 5444.218\n",
      "max_gnll -3547.9695\n",
      "std_gnll 143.352\n",
      "N 64\n",
      "157826.69\n",
      "max_gnll 8610.597\n",
      "max_gnll -9107.997\n",
      "std_gnll 93.96101\n",
      "N 128\n"
     ]
    },
    {
     "name": "stderr",
     "output_type": "stream",
     "text": [
      "/home/prossello/Documents/IAC_beca/cosmo_env/lib64/python3.12/site-packages/jax/_src/numpy/array_methods.py:69: UserWarning: Explicitly requested dtype <class 'jax.numpy.int64'> requested in astype is not available, and will be truncated to dtype int32. To enable more dtypes, set the jax_enable_x64 configuration option or the JAX_ENABLE_X64 shell environment variable. See https://github.com/google/jax#current-gotchas for more.\n",
      "  return lax_numpy.astype(arr, dtype, copy=copy, device=device)\n",
      "/home/prossello/Documents/IAC_beca/cosmo_env/lib64/python3.12/site-packages/jax/_src/numpy/array_methods.py:69: UserWarning: Explicitly requested dtype <class 'jax.numpy.int64'> requested in astype is not available, and will be truncated to dtype int32. To enable more dtypes, set the jax_enable_x64 configuration option or the JAX_ENABLE_X64 shell environment variable. See https://github.com/google/jax#current-gotchas for more.\n",
      "  return lax_numpy.astype(arr, dtype, copy=copy, device=device)\n",
      "/home/prossello/Documents/IAC_beca/cosmo_env/lib64/python3.12/site-packages/jax/_src/numpy/array_methods.py:69: UserWarning: Explicitly requested dtype <class 'jax.numpy.int64'> requested in astype is not available, and will be truncated to dtype int32. To enable more dtypes, set the jax_enable_x64 configuration option or the JAX_ENABLE_X64 shell environment variable. See https://github.com/google/jax#current-gotchas for more.\n",
      "  return lax_numpy.astype(arr, dtype, copy=copy, device=device)\n"
     ]
    },
    {
     "name": "stdout",
     "output_type": "stream",
     "text": [
      "3758438.0\n",
      "max_gnll 62561.574\n",
      "max_gnll -44218.875\n",
      "std_gnll 218.60843\n"
     ]
    }
   ],
   "source": [
    "N, L, Z_I, Z_F = 16, 400, 99, 0\n",
    "N_TR = 1e6\n",
    "\n",
    "BIAS_MODEL = \"POWER_LAW\"\n",
    "ALPHA = 2.5\n",
    "BIAS_PARAMS = {\"ALPHA\": ALPHA}\n",
    "\n",
    "enes = [8, 16, 32, 64, 128]\n",
    "\n",
    "for n in enes:\n",
    "    print('N', n)\n",
    "    LPT_METHOD = \"LPT1\"\n",
    "    argdic = {\n",
    "        \"N\": n,\n",
    "        \"L\": L,\n",
    "        \"Z_I\": Z_I,\n",
    "        \"Z_F\": Z_F,\n",
    "        \"LPT_METHOD\": LPT_METHOD,\n",
    "        \"PM_METHOD\": \"CIC\",\n",
    "        \"INPUT_ARG\": \"U\",\n",
    "        \"MUSCLE\": True,\n",
    "        \"MUSCLE_ITERS\": \"ONE\",\n",
    "        \"SC_CORRECTION\": True,\n",
    "        \"BIAS_MODEL\": BIAS_MODEL,\n",
    "        \"BIAS_PARAMS\": BIAS_PARAMS,\n",
    "        \"N_TR\": N_TR,\n",
    "        \"SAMPLE\": 1,\n",
    "    }\n",
    "\n",
    "    get_tracers_poisson = get_forward_model(argdic)\n",
    "\n",
    "    argdic['SAMPLE'] = False\n",
    "    get_tracers_mean = get_forward_model(argdic)\n",
    "\n",
    "\n",
    "\n",
    "    SHAPE = n**3\n",
    "\n",
    "    seed_ints = 1, 3\n",
    "\n",
    "    key = jax.random.PRNGKey(seed_ints[0])\n",
    "    u_ref = jax.random.normal(key, shape=SHAPE)\n",
    "    n_tr_ref = get_tracers_poisson(u_ref)\n",
    "\n",
    "    key = jax.random.PRNGKey(seed_ints[1])\n",
    "    u = jax.random.normal(key, shape=SHAPE)\n",
    "\n",
    "\n",
    "    epsilon = 1e-10\n",
    "    def nll(q):\n",
    "        n_tr = get_tracers_mean(q)\n",
    "        n_tr = jnp.where(n_tr == 0.0, epsilon, n_tr)\n",
    "        nll = -jnp.sum(n_tr_ref * jnp.log(n_tr))\n",
    "        return nll \n",
    "\n",
    "    nll = jax.jit(nll)\n",
    "    grad_nll = jax.grad(nll)\n",
    "    grad_nll = jax.jit(grad_nll)\n",
    "\n",
    "    nll_val = nll(u)\n",
    "    grad_nll_vals = grad_nll(u)\n",
    "\n",
    "\n",
    "    fact = 1#n**(-3/2)\n",
    "\n",
    "    print(nll_val)\n",
    "\n",
    "    max_gnll = jnp.max(grad_nll_vals)\n",
    "    min_gnll = jnp.min(grad_nll_vals)\n",
    "\n",
    "    print('max_gnll', max_gnll*fact)\n",
    "    print('max_gnll', min_gnll*fact)\n",
    "    print('std_gnll', jnp.std(grad_nll_vals)*fact)"
   ]
  },
  {
   "cell_type": "code",
   "execution_count": null,
   "metadata": {},
   "outputs": [
    {
     "name": "stdout",
     "output_type": "stream",
     "text": [
      "-3800100.2\n",
      "max_gnll 68482.03\n",
      "max_gnll -131334.69\n"
     ]
    }
   ],
   "source": []
  },
  {
   "cell_type": "code",
   "execution_count": null,
   "metadata": {},
   "outputs": [
    {
     "name": "stdout",
     "output_type": "stream",
     "text": [
      "n_tr min 0\n",
      "n_tr max 11539\n",
      "n_tr sum 998763\n",
      "% zeros 4.32\n",
      "\n",
      "\n",
      "n_tr min 1e-10\n",
      "n_tr max 11416.70133159725\n",
      "n_tr sum 1000000.0000000002\n",
      "% zeros 0.00\n"
     ]
    },
    {
     "data": {
      "image/png": "[encoded data removed]",
      "text/plain": [
       "<Figure size 707.107x353.553 with 2 Axes>"
      ]
     },
     "metadata": {},
     "output_type": "display_data"
    }
   ],
   "source": [
    "SHAPE = N**3\n",
    "\n",
    "seed_ints = 1, 3\n",
    "\n",
    "key = jax.random.PRNGKey(seed_ints[0])\n",
    "u_ref = jax.random.normal(key, shape=SHAPE)\n",
    "n_tr_ref = get_tracers_poisson(u_ref)\n",
    "\n",
    "key = jax.random.PRNGKey(seed_ints[1])\n",
    "u = jax.random.normal(key, shape=SHAPE)\n",
    "n_tr = get_tracers_mean(u)\n",
    "\n",
    "# there should not be true zeros\n",
    "epsilon = 1e-10\n",
    "n_tr = jnp.where(n_tr == 0.0, epsilon, n_tr)\n",
    "\n",
    "\n",
    "print(\"n_tr min\", n_tr_ref.min())\n",
    "print(\"n_tr max\", n_tr_ref.max())\n",
    "print(\"n_tr sum\", n_tr_ref.sum())\n",
    "num_zeros = jnp.sum(n_tr_ref == 0.0)\n",
    "print(f\"% zeros {100*num_zeros/N**3:0.2f}\")\n",
    "print(\"\\n\")\n",
    "print(\"n_tr min\", n_tr.min())\n",
    "print(\"n_tr max\", n_tr.max())\n",
    "print(\"n_tr sum\", n_tr.sum())\n",
    "num_zeros = jnp.sum(n_tr == 0.0)\n",
    "print(f\"% zeros {100*num_zeros/N**3:0.2f}\")\n"
   ]
  },
  {
   "cell_type": "code",
   "execution_count": null,
   "metadata": {},
   "outputs": [
    {
     "name": "stdout",
     "output_type": "stream",
     "text": [
      "-4114613.5854729516\n"
     ]
    }
   ],
   "source": [
    "epsilon = 1e-20\n",
    "def nll(q):\n",
    "    n_tr = get_tracers_mean(q)\n",
    "    n_tr = jnp.where(n_tr == 0.0, epsilon, n_tr)\n",
    "    nll = -jnp.sum(n_tr_ref * jnp.log(n_tr))\n",
    "    return nll \n",
    "nll = jax.jit(nll)\n",
    "grad_nll = jax.grad(nll)\n",
    "grad_nll = jax.jit(grad_nll)\n",
    "\n",
    "nll_val = nll(u)\n",
    "grad_nll_vals = grad_nll(u)\n",
    "\n",
    "print(nll_val)"
   ]
  },
  {
   "cell_type": "code",
   "execution_count": null,
   "metadata": {},
   "outputs": [
    {
     "name": "stdout",
     "output_type": "stream",
     "text": [
      "max_gnll 63166.835326127955\n",
      "max_gnll -54977.20166791646\n"
     ]
    },
    {
     "data": {
      "image/png": "[encoded data removed]",
      "text/plain": [
       "<Figure size 750x500 with 1 Axes>"
      ]
     },
     "metadata": {},
     "output_type": "display_data"
    }
   ],
   "source": [
    "fs, rat = 5, 1.5\n",
    "fig, ax = plt.subplots(1, 1, figsize=(fs*rat, fs))\n",
    "\n",
    "max_gnll = jnp.max(grad_nll_vals)\n",
    "min_gnll = jnp.min(grad_nll_vals)\n",
    "\n",
    "print('max_gnll', max_gnll)\n",
    "print('max_gnll', min_gnll)\n",
    "\n",
    "abs_max_gnll = max([jnp.abs(min_gnll), jnp.abs(max_gnll)])\n",
    "\n",
    "M=100\n",
    "bin_edges = jnp.linspace(-abs_max_gnll, abs_max_gnll, M)\n",
    "\n",
    "hist, edges = jnp.histogram(grad_nll_vals, bins=bin_edges)\n",
    "\n",
    "ax.plot(edges[:-1], hist)\n",
    "\n",
    "ax.set_yscale('log')"
   ]
  }
 ],
 "metadata": {
  "kernelspec": {
   "display_name": "cosmo-env-gpu-py39",
   "language": "python",
   "name": "python3"
  },
  "language_info": {
   "codemirror_mode": {
    "name": "ipython",
    "version": 3
   },
   "file_extension": ".py",
   "mimetype": "text/x-python",
   "name": "python",
   "nbconvert_exporter": "python",
   "pygments_lexer": "ipython3",
   "version": "3.9.5"
  }
 },
 "nbformat": 4,
 "nbformat_minor": 2
}
