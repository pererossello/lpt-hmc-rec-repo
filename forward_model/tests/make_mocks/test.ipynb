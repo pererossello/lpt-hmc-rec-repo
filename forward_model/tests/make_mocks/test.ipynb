{
 "cells": [
  {
   "cell_type": "code",
   "execution_count": 12,
   "metadata": {},
   "outputs": [],
   "source": [
    "import json\n",
    "\n",
    "import h5py"
   ]
  },
  {
   "cell_type": "code",
   "execution_count": 13,
   "metadata": {},
   "outputs": [
    {
     "name": "stdout",
     "output_type": "stream",
     "text": [
      "{'N': 64, 'L': 200, 'Z_I': 99, 'Z_F': 0, 'LPT_METHOD': 'LPT1', 'PM_METHOD': 'CIC', 'IC_KIND': 'FSK_U', 'MUSCLE': True, 'MUSCLE_ITERS': 'ONE', 'SC_CORRECTION': True, 'R_S': 1, 'BIAS_MODEL': 'POWER_LAW', 'BIAS_PARAMS': {'ALPHA': 1.5}, 'N_TR': 1000000.0, 'SAMPLE': 1}\n"
     ]
    }
   ],
   "source": [
    "path = '/home/pererossello/Documents/tfm/code_v2/lpt-hmc-rec-master-v2/forward_model/results/crime_FSK_U_64_200_LPT1_PL.hdf5'\n",
    "\n",
    "with h5py.File(path, \"r\") as f:\n",
    "\n",
    "    metadata = json.loads(f.attrs['FM_ARGDIC'])\n",
    "    print(metadata)"
   ]
  },
  {
   "cell_type": "code",
   "execution_count": 10,
   "metadata": {},
   "outputs": [
    {
     "name": "stdout",
     "output_type": "stream",
     "text": [
      "1.228535e-05\n"
     ]
    }
   ],
   "source": [
    "import jax\n",
    "LF_STEP_MIN = 1e-5\n",
    "LF_STEP_MAX = 1e-4\n",
    "sk_LF_STEP = jax.random.PRNGKey(10)\n",
    "\n",
    "log_min = jax.numpy.log10(LF_STEP_MIN)\n",
    "log_max = jax.numpy.log10(LF_STEP_MAX)\n",
    "random_log = jax.random.uniform(sk_LF_STEP, minval=log_min, maxval=log_max)\n",
    "LF_STEP = 10**random_log\n",
    "print(f'{LF_STEP:05e}')"
   ]
  }
 ],
 "metadata": {
  "kernelspec": {
   "display_name": "cosmo-env-gpu-py39",
   "language": "python",
   "name": "python3"
  },
  "language_info": {
   "codemirror_mode": {
    "name": "ipython",
    "version": 3
   },
   "file_extension": ".py",
   "mimetype": "text/x-python",
   "name": "python",
   "nbconvert_exporter": "python",
   "pygments_lexer": "ipython3",
   "version": "3.9.5"
  }
 },
 "nbformat": 4,
 "nbformat_minor": 2
}
