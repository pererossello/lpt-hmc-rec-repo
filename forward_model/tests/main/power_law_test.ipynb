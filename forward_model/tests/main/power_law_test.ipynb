{
 "cells": [
  {
   "cell_type": "code",
   "execution_count": 6,
   "metadata": {},
   "outputs": [
    {
     "name": "stdout",
     "output_type": "stream",
     "text": [
      "The autoreload extension is already loaded. To reload it, use:\n",
      "  %reload_ext autoreload\n"
     ]
    }
   ],
   "source": [
    "%load_ext autoreload\n",
    "%autoreload 2\n",
    "\n",
    "import sys\n",
    "\n",
    "import jax\n",
    "import jax.numpy as jnp\n",
    "\n",
    "sys.path.append('../../')\n",
    "from ics import get_delta\n",
    "from main import get_forward_model\n",
    "from plot_utils import plot_cubes"
   ]
  },
  {
   "cell_type": "code",
   "execution_count": 22,
   "metadata": {},
   "outputs": [],
   "source": [
    "N, L, Z_I, Z_F = 128, 120, 99, 0\n",
    "\n",
    "SEED_INT = 1\n",
    "key = jax.random.PRNGKey(SEED_INT)\n",
    "input_arr = jax.random.normal(key, shape=(N**3,))\n",
    "\n",
    "BIAS_PARAMS = {\"ALPHA\": 1.5}\n",
    "argdic = {\n",
    "    \"N\": N,\n",
    "    \"L\": L,\n",
    "    \"Z_I\": Z_I,\n",
    "    \"Z_F\": Z_F,\n",
    "    \"LPT_METHOD\": \"LPT1\",\n",
    "    \"PM_METHOD\": \"CIC\",\n",
    "    \"INPUT_ARG\": \"U\",\n",
    "    'BIAS_MODEL': 'POWER_LAW', \n",
    "    'BIAS_PARAMS': BIAS_PARAMS,\n",
    "    'N_TR': 1e6, \n",
    "    'SAMPLE': 2\n",
    "}\n",
    "\n",
    "forward_model = get_forward_model(argdic)\n",
    "n_tr = forward_model(input_arr)"
   ]
  },
  {
   "cell_type": "code",
   "execution_count": 23,
   "metadata": {},
   "outputs": [
    {
     "data": {
      "text/plain": [
       "(<Figure size 500x500 with 1 Axes>, <Axes: >)"
      ]
     },
     "execution_count": 23,
     "metadata": {},
     "output_type": "execute_result"
    },
    {
     "data": {
      "image/png": "[encoded data removed]",
      "text/plain": [
       "<Figure size 500x500 with 1 Axes>"
      ]
     },
     "metadata": {},
     "output_type": "display_data"
    }
   ],
   "source": [
    "plot_cubes(n_tr, cmap='gnuplot', vlim=(1, 5))"
   ]
  },
  {
   "cell_type": "code",
   "execution_count": null,
   "metadata": {},
   "outputs": [],
   "source": []
  }
 ],
 "metadata": {
  "kernelspec": {
   "display_name": "cosmo_env",
   "language": "python",
   "name": "python3"
  },
  "language_info": {
   "codemirror_mode": {
    "name": "ipython",
    "version": 3
   },
   "file_extension": ".py",
   "mimetype": "text/x-python",
   "name": "python",
   "nbconvert_exporter": "python",
   "pygments_lexer": "ipython3",
   "version": "3.12.7"
  }
 },
 "nbformat": 4,
 "nbformat_minor": 2
}
