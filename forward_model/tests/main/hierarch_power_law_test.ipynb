{
 "cells": [
  {
   "cell_type": "code",
   "execution_count": 2,
   "metadata": {},
   "outputs": [],
   "source": [
    "%load_ext autoreload\n",
    "%autoreload 2\n",
    "\n",
    "import sys\n",
    "\n",
    "import jax\n",
    "import jax.numpy as jnp\n",
    "\n",
    "sys.path.append('../../')\n",
    "from ics import get_delta\n",
    "from main import get_forward_model\n",
    "from plot_utils import plot_cubes"
   ]
  },
  {
   "cell_type": "code",
   "execution_count": 8,
   "metadata": {},
   "outputs": [],
   "source": [
    "N, L, Z_I, Z_F = 128, 500, 99, 0\n",
    "\n",
    "SEED_INT = 1\n",
    "key = jax.random.PRNGKey(SEED_INT)\n",
    "input_arr = jax.random.normal(key, shape=(N**3,))\n",
    "\n",
    "key_ = jax.random.PRNGKey(1)\n",
    "alph_min, alph_max = 1, 2\n",
    "ALPHAS = jax.random.uniform(key_, 16)*(alph_max-alph_min)+alph_min\n",
    "\n",
    "BIAS_PARAMS = {\"ALPHA\": ALPHAS, \"LAMBDA_TH\": 0.05}\n",
    "\n",
    "argdic = {\n",
    "    \"N\": N,\n",
    "    \"L\": L,\n",
    "    \"Z_I\": Z_I,\n",
    "    \"Z_F\": Z_F,\n",
    "    \"LPT_METHOD\": \"LPT1\",\n",
    "    \"PM_METHOD\": \"CIC\",\n",
    "    \"INPUT_ARG\": \"U\",\n",
    "    'BIAS_MODEL': 'HIERARCHICAL_POWER_LAW', \n",
    "    'BIAS_PARAMS': BIAS_PARAMS,\n",
    "    'N_TR': 1e6, \n",
    "    'SAMPLE': 3\n",
    "}\n",
    "\n",
    "forward_model = get_forward_model(argdic)\n",
    "n_tr = forward_model(input_arr)"
   ]
  },
  {
   "cell_type": "code",
   "execution_count": 9,
   "metadata": {},
   "outputs": [
    {
     "data": {
      "text/plain": [
       "(<Figure size 500x500 with 1 Axes>, <Axes: >)"
      ]
     },
     "execution_count": 9,
     "metadata": {},
     "output_type": "execute_result"
    },
    {
     "data": {
      "image/png": "[encoded data removed]",
      "text/plain": [
       "<Figure size 500x500 with 1 Axes>"
      ]
     },
     "metadata": {},
     "output_type": "display_data"
    }
   ],
   "source": [
    "plot_cubes(n_tr, cmap='gnuplot', vlim=(1, 5))"
   ]
  }
 ],
 "metadata": {
  "kernelspec": {
   "display_name": "cosmo_env",
   "language": "python",
   "name": "python3"
  },
  "language_info": {
   "codemirror_mode": {
    "name": "ipython",
    "version": 3
   },
   "file_extension": ".py",
   "mimetype": "text/x-python",
   "name": "python",
   "nbconvert_exporter": "python",
   "pygments_lexer": "ipython3",
   "version": "3.12.7"
  }
 },
 "nbformat": 4,
 "nbformat_minor": 2
}
